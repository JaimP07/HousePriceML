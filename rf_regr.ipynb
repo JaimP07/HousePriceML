{
 "cells": [
  {
   "cell_type": "code",
   "execution_count": 10,
   "id": "b19cdca8",
   "metadata": {
    "scrolled": false
   },
   "outputs": [
    {
     "data": {
      "text/html": [
       "<div>\n",
       "<style scoped>\n",
       "    .dataframe tbody tr th:only-of-type {\n",
       "        vertical-align: middle;\n",
       "    }\n",
       "\n",
       "    .dataframe tbody tr th {\n",
       "        vertical-align: top;\n",
       "    }\n",
       "\n",
       "    .dataframe thead th {\n",
       "        text-align: right;\n",
       "    }\n",
       "</style>\n",
       "<table border=\"1\" class=\"dataframe\">\n",
       "  <thead>\n",
       "    <tr style=\"text-align: right;\">\n",
       "      <th></th>\n",
       "      <th>MedInc</th>\n",
       "      <th>HouseAge</th>\n",
       "      <th>AveRooms</th>\n",
       "      <th>AveBedrms</th>\n",
       "      <th>Population</th>\n",
       "      <th>AveOccup</th>\n",
       "      <th>Latitude</th>\n",
       "      <th>Longitude</th>\n",
       "      <th>MedHouseVal</th>\n",
       "    </tr>\n",
       "  </thead>\n",
       "  <tbody>\n",
       "    <tr>\n",
       "      <th>0</th>\n",
       "      <td>8.3252</td>\n",
       "      <td>41.0</td>\n",
       "      <td>6.984127</td>\n",
       "      <td>1.023810</td>\n",
       "      <td>322.0</td>\n",
       "      <td>2.555556</td>\n",
       "      <td>37.88</td>\n",
       "      <td>-122.23</td>\n",
       "      <td>4.526</td>\n",
       "    </tr>\n",
       "    <tr>\n",
       "      <th>1</th>\n",
       "      <td>8.3014</td>\n",
       "      <td>21.0</td>\n",
       "      <td>6.238137</td>\n",
       "      <td>0.971880</td>\n",
       "      <td>2401.0</td>\n",
       "      <td>2.109842</td>\n",
       "      <td>37.86</td>\n",
       "      <td>-122.22</td>\n",
       "      <td>3.585</td>\n",
       "    </tr>\n",
       "    <tr>\n",
       "      <th>2</th>\n",
       "      <td>7.2574</td>\n",
       "      <td>52.0</td>\n",
       "      <td>8.288136</td>\n",
       "      <td>1.073446</td>\n",
       "      <td>496.0</td>\n",
       "      <td>2.802260</td>\n",
       "      <td>37.85</td>\n",
       "      <td>-122.24</td>\n",
       "      <td>3.521</td>\n",
       "    </tr>\n",
       "    <tr>\n",
       "      <th>3</th>\n",
       "      <td>5.6431</td>\n",
       "      <td>52.0</td>\n",
       "      <td>5.817352</td>\n",
       "      <td>1.073059</td>\n",
       "      <td>558.0</td>\n",
       "      <td>2.547945</td>\n",
       "      <td>37.85</td>\n",
       "      <td>-122.25</td>\n",
       "      <td>3.413</td>\n",
       "    </tr>\n",
       "    <tr>\n",
       "      <th>4</th>\n",
       "      <td>3.8462</td>\n",
       "      <td>52.0</td>\n",
       "      <td>6.281853</td>\n",
       "      <td>1.081081</td>\n",
       "      <td>565.0</td>\n",
       "      <td>2.181467</td>\n",
       "      <td>37.85</td>\n",
       "      <td>-122.25</td>\n",
       "      <td>3.422</td>\n",
       "    </tr>\n",
       "  </tbody>\n",
       "</table>\n",
       "</div>"
      ],
      "text/plain": [
       "   MedInc  HouseAge  AveRooms  AveBedrms  Population  AveOccup  Latitude  \\\n",
       "0  8.3252      41.0  6.984127   1.023810       322.0  2.555556     37.88   \n",
       "1  8.3014      21.0  6.238137   0.971880      2401.0  2.109842     37.86   \n",
       "2  7.2574      52.0  8.288136   1.073446       496.0  2.802260     37.85   \n",
       "3  5.6431      52.0  5.817352   1.073059       558.0  2.547945     37.85   \n",
       "4  3.8462      52.0  6.281853   1.081081       565.0  2.181467     37.85   \n",
       "\n",
       "   Longitude  MedHouseVal  \n",
       "0    -122.23        4.526  \n",
       "1    -122.22        3.585  \n",
       "2    -122.24        3.521  \n",
       "3    -122.25        3.413  \n",
       "4    -122.25        3.422  "
      ]
     },
     "execution_count": 10,
     "metadata": {},
     "output_type": "execute_result"
    }
   ],
   "source": [
    "import pandas as pd\n",
    "from sklearn.datasets import fetch_california_housing\n",
    "\n",
    "cal_housing_sk = fetch_california_housing(as_frame=True)\n",
    "cal_housing = pd.DataFrame(cal_housing_sk.frame)\n",
    "cal_housing.head()"
   ]
  },
  {
   "cell_type": "code",
   "execution_count": 11,
   "id": "9d407d92",
   "metadata": {},
   "outputs": [
    {
     "name": "stdout",
     "output_type": "stream",
     "text": [
      "72.3 ms ± 0 ns per loop (mean ± std. dev. of 1 run, 1 loop each)\n",
      "1 estimator random forest MAE: 0.5082\n",
      "\n",
      "218 ms ± 0 ns per loop (mean ± std. dev. of 1 run, 1 loop each)\n",
      "3 estimator random forest MAE: 0.4179\n",
      "\n",
      "366 ms ± 0 ns per loop (mean ± std. dev. of 1 run, 1 loop each)\n",
      "5 estimator random forest MAE: 0.3793\n",
      "\n",
      "708 ms ± 0 ns per loop (mean ± std. dev. of 1 run, 1 loop each)\n",
      "10 estimator random forest MAE: 0.3573\n",
      "\n",
      "1.76 s ± 0 ns per loop (mean ± std. dev. of 1 run, 1 loop each)\n",
      "25 estimator random forest MAE: 0.3412\n",
      "\n",
      "3.33 s ± 0 ns per loop (mean ± std. dev. of 1 run, 1 loop each)\n",
      "50 estimator random forest MAE: 0.3378\n",
      "\n",
      "5.53 s ± 0 ns per loop (mean ± std. dev. of 1 run, 1 loop each)\n",
      "100 estimator random forest MAE: 0.3367\n",
      "\n"
     ]
    }
   ],
   "source": [
    "from sklearn.ensemble import RandomForestRegressor\n",
    "from sklearn.model_selection import train_test_split\n",
    "from sklearn.metrics import mean_absolute_error\n",
    "\n",
    "X = cal_housing.drop(columns=[\"MedHouseVal\"])\n",
    "Y = cal_housing[\"MedHouseVal\"]\n",
    "x_train, x_test, y_train, y_test = train_test_split(X, Y, test_size=0.2)\n",
    "\n",
    "num_estimators = [1, 3, 5, 10, 25, 50, 100]\n",
    "rf_regr_mae_list = []\n",
    "feat_importance_list = []\n",
    "for n in num_estimators:\n",
    "    rf_regr = RandomForestRegressor(n_estimators=n, min_samples_split=2, max_samples=0.5)\n",
    "    %timeit -n1 -r1 rf_regr.fit(x_train, y_train)\n",
    "    y_pred = rf_regr.predict(x_test)\n",
    "    rf_regr_mae = mean_absolute_error(y_test, y_pred)\n",
    "    rf_regr_mae_list.append(rf_regr_mae)\n",
    "    feat_importance_list.append(rf_regr.feature_importances_)\n",
    "    print(f\"{n} estimator random forest MAE: {rf_regr_mae:.4}\\n\")"
   ]
  },
  {
   "cell_type": "code",
   "execution_count": 12,
   "id": "90aa229d",
   "metadata": {},
   "outputs": [
    {
     "data": {
      "image/png": "[encoded data removed]",
      "text/plain": [
       "<Figure size 432x288 with 1 Axes>"
      ]
     },
     "metadata": {
      "needs_background": "light"
     },
     "output_type": "display_data"
    }
   ],
   "source": [
    "from matplotlib import pyplot as plt\n",
    "\n",
    "best_model_idx = rf_regr_mae_list.index(min(rf_regr_mae_list))\n",
    "plt.barh(cal_housing.drop(columns=[\"MedHouseVal\"]).columns.to_numpy(),\\\n",
    "         feat_importance_list[best_model_idx])\n",
    "plt.tight_layout()\n",
    "plt.savefig('images/rf_feat_importances.pdf')\n",
    "plt.show()"
   ]
  }
 ],
 "metadata": {
  "kernelspec": {
   "display_name": "Python 3",
   "language": "python",
   "name": "python3"
  },
  "language_info": {
   "codemirror_mode": {
    "name": "ipython",
    "version": 3
   },
   "file_extension": ".py",
   "mimetype": "text/x-python",
   "name": "python",
   "nbconvert_exporter": "python",
   "pygments_lexer": "ipython3",
   "version": "3.8.8"
  }
 },
 "nbformat": 4,
 "nbformat_minor": 5
}
